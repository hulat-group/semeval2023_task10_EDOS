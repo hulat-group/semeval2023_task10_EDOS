{
  "nbformat": 4,
  "nbformat_minor": 0,
  "metadata": {
    "colab": {
      "provenance": [],
      "toc_visible": true
    },
    "kernelspec": {
      "name": "python3",
      "display_name": "Python 3"
    },
    "language_info": {
      "name": "python"
    },
    "gpuClass": "standard"
  },
  "cells": [
    {
      "cell_type": "markdown",
      "source": [
        "\n",
        "# [SemEval 2023 - Task 10 - Explainable Detection of Online Sexism (EDOS)](https://codalab.lisn.upsaclay.fr/competitions/7124)\n",
        "\n",
        "In this notebook, we will study the dataset for the EDOS task. The goal of this shared task is to develop automatic systems that allows to identify sexist content and provide more explanations about it. \n",
        "\n",
        "The task contains three hierarchical subtasks:\n",
        "\n",
        "- TASK A - Binary Sexism Detection: a two-class (or binary) classification where systems have to predict whether a post is sexist or not sexist.\n",
        "- TASK B - Category of Sexism: for posts which are sexist, a four-class classification where systems have to predict one of four categories: (1) threats, (2)  derogation, (3) animosity, (4) prejudiced discussion. \n",
        "- TASK C - Fine-grained Vector of Sexism: for posts which are sexist, an 11-class classification where systems have to predict one of 11 fine-grained vectors.\n",
        "\n",
        "\n"
      ],
      "metadata": {
        "id": "RzW071GVi7AT"
      }
    },
    {
      "cell_type": "markdown",
      "source": [
        "The whole dataset consists of 20,000 entries: 10,000 are from Gab and 10,000 from Reddit. Gab is a social networking service known for its far-right userbase. \n",
        "\n",
        "The dataset  was randomly split with a division ratio of 70:10:20% (training: develoment:test)\n",
        "\n",
        "\n",
        "First, we will explore the training dataset. There is a one CSV file for training data for the three tasks: \n",
        "\n",
        "- rewire_id: a unique identifier for each entry\n",
        "- text: the input text\n",
        "- label_sexist: Task A label\n",
        "- label_category: Task B label.\n",
        "- label_vector: Task C label.\n",
        "\n",
        "NOTE: For not sexist entries, label_category and label_vector are set to the string \"none\".\n",
        "\n"
      ],
      "metadata": {
        "id": "kJYpLj0wj_uY"
      }
    },
    {
      "cell_type": "markdown",
      "source": [
        "## Loading the dataset\n",
        "\n",
        "In the following cells, we are going to explore the dataset. \n",
        "\n",
        "First, we have to mount our google drive:"
      ],
      "metadata": {
        "id": "yo1DQMpMyWWR"
      }
    },
    {
      "cell_type": "code",
      "source": [
        "from google.colab import drive\n",
        "drive.mount('/content/drive')"
      ],
      "metadata": {
        "colab": {
          "base_uri": "https://localhost:8080/"
        },
        "id": "mwb05z3-ywP_",
        "outputId": "07556c6b-9293-48bc-c663-276196c552cf"
      },
      "execution_count": 1,
      "outputs": [
        {
          "output_type": "stream",
          "name": "stdout",
          "text": [
            "Drive already mounted at /content/drive; to attempt to forcibly remount, call drive.mount(\"/content/drive\", force_remount=True).\n"
          ]
        }
      ]
    },
    {
      "cell_type": "code",
      "source": [
        "import pandas as pd\n",
        "path = \"/content/drive/My Drive/Colab Notebooks/data/edos/\"\n",
        "# we load the training dataset. There is one only file for the three tasks\n",
        "df = pd.read_csv(path+\"edos_labelled.csv\") \n",
        "df.head()"
      ],
      "metadata": {
        "id": "A4OlAe0IzZ8w",
        "colab": {
          "base_uri": "https://localhost:8080/",
          "height": 206
        },
        "outputId": "133ca7a9-7946-4786-e613-8b6b2cf10cd8"
      },
      "execution_count": 2,
      "outputs": [
        {
          "output_type": "execute_result",
          "data": {
            "text/plain": [
              "                  rewire_id  \\\n",
              "0   sexism2022_english-9609   \n",
              "1  sexism2022_english-16993   \n",
              "2  sexism2022_english-13149   \n",
              "3  sexism2022_english-13021   \n",
              "4    sexism2022_english-966   \n",
              "\n",
              "                                                text label_sexist  \\\n",
              "0  In Nigeria, if you rape a woman, the men rape ...   not sexist   \n",
              "1                            Then, she's a keeper. 😉   not sexist   \n",
              "2  This is like the Metallica video where the poo...   not sexist   \n",
              "3                                             woman?   not sexist   \n",
              "4                     I bet she wished she had a gun   not sexist   \n",
              "\n",
              "  label_category label_vector  split  \n",
              "0           none         none    dev  \n",
              "1           none         none  train  \n",
              "2           none         none  train  \n",
              "3           none         none  train  \n",
              "4           none         none    dev  "
            ],
            "text/html": [
              "\n",
              "  <div id=\"df-8d2664fe-7787-4e92-909d-67e0d3286d01\">\n",
              "    <div class=\"colab-df-container\">\n",
              "      <div>\n",
              "<style scoped>\n",
              "    .dataframe tbody tr th:only-of-type {\n",
              "        vertical-align: middle;\n",
              "    }\n",
              "\n",
              "    .dataframe tbody tr th {\n",
              "        vertical-align: top;\n",
              "    }\n",
              "\n",
              "    .dataframe thead th {\n",
              "        text-align: right;\n",
              "    }\n",
              "</style>\n",
              "<table border=\"1\" class=\"dataframe\">\n",
              "  <thead>\n",
              "    <tr style=\"text-align: right;\">\n",
              "      <th></th>\n",
              "      <th>rewire_id</th>\n",
              "      <th>text</th>\n",
              "      <th>label_sexist</th>\n",
              "      <th>label_category</th>\n",
              "      <th>label_vector</th>\n",
              "      <th>split</th>\n",
              "    </tr>\n",
              "  </thead>\n",
              "  <tbody>\n",
              "    <tr>\n",
              "      <th>0</th>\n",
              "      <td>sexism2022_english-9609</td>\n",
              "      <td>In Nigeria, if you rape a woman, the men rape ...</td>\n",
              "      <td>not sexist</td>\n",
              "      <td>none</td>\n",
              "      <td>none</td>\n",
              "      <td>dev</td>\n",
              "    </tr>\n",
              "    <tr>\n",
              "      <th>1</th>\n",
              "      <td>sexism2022_english-16993</td>\n",
              "      <td>Then, she's a keeper. 😉</td>\n",
              "      <td>not sexist</td>\n",
              "      <td>none</td>\n",
              "      <td>none</td>\n",
              "      <td>train</td>\n",
              "    </tr>\n",
              "    <tr>\n",
              "      <th>2</th>\n",
              "      <td>sexism2022_english-13149</td>\n",
              "      <td>This is like the Metallica video where the poo...</td>\n",
              "      <td>not sexist</td>\n",
              "      <td>none</td>\n",
              "      <td>none</td>\n",
              "      <td>train</td>\n",
              "    </tr>\n",
              "    <tr>\n",
              "      <th>3</th>\n",
              "      <td>sexism2022_english-13021</td>\n",
              "      <td>woman?</td>\n",
              "      <td>not sexist</td>\n",
              "      <td>none</td>\n",
              "      <td>none</td>\n",
              "      <td>train</td>\n",
              "    </tr>\n",
              "    <tr>\n",
              "      <th>4</th>\n",
              "      <td>sexism2022_english-966</td>\n",
              "      <td>I bet she wished she had a gun</td>\n",
              "      <td>not sexist</td>\n",
              "      <td>none</td>\n",
              "      <td>none</td>\n",
              "      <td>dev</td>\n",
              "    </tr>\n",
              "  </tbody>\n",
              "</table>\n",
              "</div>\n",
              "      <button class=\"colab-df-convert\" onclick=\"convertToInteractive('df-8d2664fe-7787-4e92-909d-67e0d3286d01')\"\n",
              "              title=\"Convert this dataframe to an interactive table.\"\n",
              "              style=\"display:none;\">\n",
              "        \n",
              "  <svg xmlns=\"http://www.w3.org/2000/svg\" height=\"24px\"viewBox=\"0 0 24 24\"\n",
              "       width=\"24px\">\n",
              "    <path d=\"M0 0h24v24H0V0z\" fill=\"none\"/>\n",
              "    <path d=\"M18.56 5.44l.94 2.06.94-2.06 2.06-.94-2.06-.94-.94-2.06-.94 2.06-2.06.94zm-11 1L8.5 8.5l.94-2.06 2.06-.94-2.06-.94L8.5 2.5l-.94 2.06-2.06.94zm10 10l.94 2.06.94-2.06 2.06-.94-2.06-.94-.94-2.06-.94 2.06-2.06.94z\"/><path d=\"M17.41 7.96l-1.37-1.37c-.4-.4-.92-.59-1.43-.59-.52 0-1.04.2-1.43.59L10.3 9.45l-7.72 7.72c-.78.78-.78 2.05 0 2.83L4 21.41c.39.39.9.59 1.41.59.51 0 1.02-.2 1.41-.59l7.78-7.78 2.81-2.81c.8-.78.8-2.07 0-2.86zM5.41 20L4 18.59l7.72-7.72 1.47 1.35L5.41 20z\"/>\n",
              "  </svg>\n",
              "      </button>\n",
              "      \n",
              "  <style>\n",
              "    .colab-df-container {\n",
              "      display:flex;\n",
              "      flex-wrap:wrap;\n",
              "      gap: 12px;\n",
              "    }\n",
              "\n",
              "    .colab-df-convert {\n",
              "      background-color: #E8F0FE;\n",
              "      border: none;\n",
              "      border-radius: 50%;\n",
              "      cursor: pointer;\n",
              "      display: none;\n",
              "      fill: #1967D2;\n",
              "      height: 32px;\n",
              "      padding: 0 0 0 0;\n",
              "      width: 32px;\n",
              "    }\n",
              "\n",
              "    .colab-df-convert:hover {\n",
              "      background-color: #E2EBFA;\n",
              "      box-shadow: 0px 1px 2px rgba(60, 64, 67, 0.3), 0px 1px 3px 1px rgba(60, 64, 67, 0.15);\n",
              "      fill: #174EA6;\n",
              "    }\n",
              "\n",
              "    [theme=dark] .colab-df-convert {\n",
              "      background-color: #3B4455;\n",
              "      fill: #D2E3FC;\n",
              "    }\n",
              "\n",
              "    [theme=dark] .colab-df-convert:hover {\n",
              "      background-color: #434B5C;\n",
              "      box-shadow: 0px 1px 3px 1px rgba(0, 0, 0, 0.15);\n",
              "      filter: drop-shadow(0px 1px 2px rgba(0, 0, 0, 0.3));\n",
              "      fill: #FFFFFF;\n",
              "    }\n",
              "  </style>\n",
              "\n",
              "      <script>\n",
              "        const buttonEl =\n",
              "          document.querySelector('#df-8d2664fe-7787-4e92-909d-67e0d3286d01 button.colab-df-convert');\n",
              "        buttonEl.style.display =\n",
              "          google.colab.kernel.accessAllowed ? 'block' : 'none';\n",
              "\n",
              "        async function convertToInteractive(key) {\n",
              "          const element = document.querySelector('#df-8d2664fe-7787-4e92-909d-67e0d3286d01');\n",
              "          const dataTable =\n",
              "            await google.colab.kernel.invokeFunction('convertToInteractive',\n",
              "                                                     [key], {});\n",
              "          if (!dataTable) return;\n",
              "\n",
              "          const docLinkHtml = 'Like what you see? Visit the ' +\n",
              "            '<a target=\"_blank\" href=https://colab.research.google.com/notebooks/data_table.ipynb>data table notebook</a>'\n",
              "            + ' to learn more about interactive tables.';\n",
              "          element.innerHTML = '';\n",
              "          dataTable['output_type'] = 'display_data';\n",
              "          await google.colab.output.renderOutput(dataTable, element);\n",
              "          const docLink = document.createElement('div');\n",
              "          docLink.innerHTML = docLinkHtml;\n",
              "          element.appendChild(docLink);\n",
              "        }\n",
              "      </script>\n",
              "    </div>\n",
              "  </div>\n",
              "  "
            ]
          },
          "metadata": {},
          "execution_count": 2
        }
      ]
    },
    {
      "cell_type": "markdown",
      "source": [
        "The previous dataframe contains all the files of the dataset for the shared task. The field task allows us to know the split of each record. \n",
        "The full dataset contains three splits (train, dev and test) with a ration of 70:10:20. "
      ],
      "metadata": {
        "id": "5C9j3p8xrowz"
      }
    },
    {
      "cell_type": "code",
      "source": [
        "df['split'].unique()"
      ],
      "metadata": {
        "colab": {
          "base_uri": "https://localhost:8080/"
        },
        "id": "JpsMaUt0r99Z",
        "outputId": "b0760922-429e-46cb-df0e-7e0284742d60"
      },
      "execution_count": 3,
      "outputs": [
        {
          "output_type": "execute_result",
          "data": {
            "text/plain": [
              "array(['dev', 'train', 'test'], dtype=object)"
            ]
          },
          "metadata": {},
          "execution_count": 3
        }
      ]
    },
    {
      "cell_type": "markdown",
      "source": [
        "We save each split into a dataframe. "
      ],
      "metadata": {
        "id": "OslSJ-HGsK3x"
      }
    },
    {
      "cell_type": "code",
      "source": [
        "df_train = df[df['split']=='train'] # for training\n",
        "df_dev = df[df['split']=='dev'] # for validation\n",
        "df_test = df[df['split']=='test'] # for final test\n",
        "\n",
        "print('training size: ', df_train.shape)\n",
        "print('validation size: ', df_dev.shape)\n",
        "print('test size: ', df_test.shape)"
      ],
      "metadata": {
        "colab": {
          "base_uri": "https://localhost:8080/"
        },
        "id": "L9xgi9E9rfOz",
        "outputId": "c6542156-c5f9-4997-c65b-2e1d730fdf2b"
      },
      "execution_count": 4,
      "outputs": [
        {
          "output_type": "stream",
          "name": "stdout",
          "text": [
            "training size:  (14000, 6)\n",
            "validation size:  (2000, 6)\n",
            "test size:  (4000, 6)\n"
          ]
        }
      ]
    },
    {
      "cell_type": "markdown",
      "source": [
        "## Class Distribution\n",
        "\n",
        "We are going to see the class distribution in each subtask."
      ],
      "metadata": {
        "id": "MslQTVafsaTo"
      }
    },
    {
      "cell_type": "markdown",
      "source": [
        "### Class distribution for task 1\n"
      ],
      "metadata": {
        "id": "4XUgbaK_sjnA"
      }
    },
    {
      "cell_type": "code",
      "source": [
        "data_train1 = df_train[\"label_sexist\"].value_counts().reset_index()\n",
        "data_train1.columns = ['label_sexist', 'counts']\n",
        "\n",
        "data_dev1 = df_dev[\"label_sexist\"].value_counts().reset_index()\n",
        "data_dev1.columns = ['label_sexist', 'counts']\n",
        "\n",
        "data_test1 = df_test[\"label_sexist\"].value_counts().reset_index()\n",
        "data_test1.columns = ['label_sexist', 'counts']\n",
        "\n",
        "\n",
        "\n",
        "print(\"Class distribution in training split:\", data_train1.to_dict())\n",
        "print(\"Class distribution in validation split:\", data_dev1.to_dict())\n",
        "print(\"Class distribution in test split:\", data_test1.to_dict())\n",
        "\n",
        "#counts_train.head()\n",
        "#counts_dev.head()\n",
        "#counts_test.head()"
      ],
      "metadata": {
        "colab": {
          "base_uri": "https://localhost:8080/"
        },
        "id": "ZhjdXPrI08qx",
        "outputId": "b19f3654-e452-4cd5-adf3-119850dae0a4"
      },
      "execution_count": 5,
      "outputs": [
        {
          "output_type": "stream",
          "name": "stdout",
          "text": [
            "Class distribution in training split: {'label_sexist': {0: 'not sexist', 1: 'sexist'}, 'counts': {0: 10602, 1: 3398}}\n",
            "Class distribution in validation split: {'label_sexist': {0: 'not sexist', 1: 'sexist'}, 'counts': {0: 1514, 1: 486}}\n",
            "Class distribution in test split: {'label_sexist': {0: 'not sexist', 1: 'sexist'}, 'counts': {0: 3030, 1: 970}}\n"
          ]
        }
      ]
    },
    {
      "cell_type": "markdown",
      "source": [
        "We can see that the 'not sexist' is the majoritary class in the three splits. Although the previous dictionaries provide useful information, we will also create plots that help us to understand better the distribution of the data. "
      ],
      "metadata": {
        "id": "LzvjrgwDB67g"
      }
    },
    {
      "cell_type": "code",
      "source": [
        "import matplotlib.pyplot as plt\n",
        "\n",
        "fig, (ax_train, ax_dev, ax_test) = plt.subplots(1, 3, figsize=(12, 3))\n",
        "# fig.suptitle('Distribution of the languages in both subsets: training and test')\n",
        "ax_train.bar(data_train1['label_sexist'], data_train1['counts'], width=0.4)\n",
        "ax_train.set_xticklabels(data_train1['label_sexist'], rotation=45)\n",
        "ax_train.set_title('Training split')\n",
        "ax_train.set_ylabel('Number of texts')\n",
        "\n",
        "ax_dev.bar(data_dev1['label_sexist'], data_dev1['counts'], width=0.4)\n",
        "ax_dev.set_xticklabels(data_dev1['label_sexist'], rotation=45)\n",
        "ax_dev.set_title('Validation split')\n",
        "\n",
        "ax_test.bar(data_test1['label_sexist'], data_test1['counts'], width=0.4)\n",
        "ax_test.set_xticklabels(data_test1['label_sexist'], rotation=45)\n",
        "ax_test.set_title('Test split')\n"
      ],
      "metadata": {
        "colab": {
          "base_uri": "https://localhost:8080/",
          "height": 275
        },
        "id": "7ZhsiNyPt8ys",
        "outputId": "47fd6a9a-91b5-472f-e70c-589c2151b4c6"
      },
      "execution_count": 6,
      "outputs": [
        {
          "output_type": "execute_result",
          "data": {
            "text/plain": [
              "Text(0.5, 1.0, 'Test split')"
            ]
          },
          "metadata": {},
          "execution_count": 6
        },
        {
          "output_type": "display_data",
          "data": {
            "text/plain": [
              "<Figure size 864x216 with 3 Axes>"
            ],
            "image/png": "[encoded data removed]"
          },
          "metadata": {
            "needs_background": "light"
          }
        }
      ]
    },
    {
      "cell_type": "markdown",
      "source": [
        "The plots clearly show that the minoritary class is the 'sexist' class in the three splits. "
      ],
      "metadata": {
        "id": "WPmty38YuU-q"
      }
    },
    {
      "cell_type": "markdown",
      "source": [
        "### Class Distribution for the task 2\n",
        "\n",
        "Now, we will study the class distribution for the field 'label_category' (task 2). \n",
        "We need to remove the records that are classified as 'not sexist'. "
      ],
      "metadata": {
        "id": "Vspr8sePaZnx"
      }
    },
    {
      "cell_type": "code",
      "source": [
        "df_train_sex = df_train[df_train['label_sexist']=='sexist']\n",
        "df_dev_sex = df_dev[df_dev['label_sexist']=='sexist']\n",
        "df_test_sex = df_test[df_test['label_sexist']=='sexist']\n",
        "\n",
        "print('Size of the training split for the tasks 2 and 3', df_train_sex.shape)\n",
        "print('Size of the validation split for the tasks 2 and 3', df_dev_sex.shape)\n",
        "print('Size of the test split for the tasks 2 and 3', df_test_sex.shape)\n"
      ],
      "metadata": {
        "colab": {
          "base_uri": "https://localhost:8080/"
        },
        "id": "SYihzjpqwYyN",
        "outputId": "6fee2d13-5f04-402d-db52-eb96a5e1499f"
      },
      "execution_count": 7,
      "outputs": [
        {
          "output_type": "stream",
          "name": "stdout",
          "text": [
            "Size of the training split for the tasks 2 and 3 (3398, 6)\n",
            "Size of the validation split for the tasks 2 and 3 (486, 6)\n",
            "Size of the test split for the tasks 2 and 3 (970, 6)\n"
          ]
        }
      ]
    },
    {
      "cell_type": "code",
      "source": [
        "data_train2 = df_train_sex[\"label_category\"].value_counts().reset_index()\n",
        "data_train2.columns = ['label_category', 'counts']\n",
        "\n",
        "data_dev2 = df_dev_sex[\"label_category\"].value_counts().reset_index()\n",
        "data_dev2.columns = ['label_category', 'counts']\n",
        "\n",
        "data_test2 = df_test_sex[\"label_category\"].value_counts().reset_index()\n",
        "data_test2.columns = ['label_category', 'counts']\n",
        "\n",
        "# print(\"Class distribution in training split for the task 2:\", data_train2)\n",
        "# print(\"Class distribution in validation split for the task 2:\", data_dev2)\n",
        "# print(\"Class distribution in test split for the task 2: \", data_test2)\n"
      ],
      "metadata": {
        "id": "dc_rOJHam-c7"
      },
      "execution_count": 8,
      "outputs": []
    },
    {
      "cell_type": "code",
      "source": [
        "data_test2['label_category'].tolist()"
      ],
      "metadata": {
        "colab": {
          "base_uri": "https://localhost:8080/"
        },
        "id": "x9o90ejRELcF",
        "outputId": "1d60f6f7-fba9-4bfb-9a2a-9ef868b08ef7"
      },
      "execution_count": 9,
      "outputs": [
        {
          "output_type": "execute_result",
          "data": {
            "text/plain": [
              "['2. derogation',\n",
              " '3. animosity',\n",
              " '4. prejudiced discussions',\n",
              " '1. threats, plans to harm and incitement']"
            ]
          },
          "metadata": {},
          "execution_count": 9
        }
      ]
    },
    {
      "cell_type": "markdown",
      "source": [
        "We define a dictionary that assigns a color to each category: "
      ],
      "metadata": {
        "id": "U6rEjrKm5oEq"
      }
    },
    {
      "cell_type": "code",
      "source": [
        "colors = ['orchid', 'lightsalmon', 'yellowgreen','deepskyblue']\n",
        "labels = sorted(data_train2['label_category'].tolist())\n",
        "# print(labels)\n",
        "\n",
        "dict_color = dict(zip(labels, colors))\n",
        "dict_color\n",
        "\n",
        "color_train = data_train2['label_category'].apply(lambda x: dict_color[x]).tolist()\n",
        "color_dev = data_dev2['label_category'].apply(lambda x: dict_color[x]).tolist()\n",
        "color_test = data_test2['label_category'].apply(lambda x: dict_color[x]).tolist()\n",
        "# print(color_train)\n",
        "# print(color_dev)\n",
        "# print(color_test)"
      ],
      "metadata": {
        "id": "4mynYOUp55Qa"
      },
      "execution_count": 10,
      "outputs": []
    },
    {
      "cell_type": "code",
      "source": [
        "from matplotlib.lines import Line2D\n",
        "\n",
        "fig, (ax_train, ax_dev, ax_test) = plt.subplots(1, 3, figsize=(8, 3))\n",
        "ax_train.bar(data_train2['label_category'], data_train2['counts'], label=dict_color.keys(), color=color_train)\n",
        "# ax_train.set_xticklabels(data_train['label_category'], rotation=45)\n",
        "ax_train.set_title('Training split')\n",
        "ax_train.set_ylabel('Number of texts')\n",
        "ax_train.axes.get_xaxis().set_ticks([]) #hide the labels \n",
        "\n",
        "\n",
        "\n",
        "ax_dev.bar(data_dev2['label_category'], data_dev2['counts'], label=dict_color.keys(), color=color_dev)\n",
        "#ax_dev.set_xticklabels(counts_dev['label_category'], rotation=45)\n",
        "ax_dev.axes.get_xaxis().set_ticks([])  #hide the labels \n",
        "\n",
        "ax_dev.set_title('Validation split')\n",
        "\n",
        "ax_test.bar(data_test2['label_category'], data_test2['counts'], label=dict_color.keys(), color=color_test)\n",
        "#ax_test.set_xticklabels(counts_test['label_category'], rotation=45)\n",
        "ax_test.axes.get_xaxis().set_ticks([])  #hide the labels \n",
        "\n",
        "ax_test.set_title('Test split')\n",
        "\n",
        "\n",
        "# plt.legend()\n",
        "\n",
        "lines = [Line2D([0], [0], color=c, linewidth=5) for c in colors]\n",
        "plt.legend(lines, dict_color.keys(), ncol=1, bbox_to_anchor=(1.04, 1), loc=\"upper left\", fancybox=True, shadow=True)\n",
        "plt.show()\n",
        "\n",
        "\n"
      ],
      "metadata": {
        "colab": {
          "base_uri": "https://localhost:8080/",
          "height": 216
        },
        "id": "nXbZKCoi1wYF",
        "outputId": "20bcce5d-b685-498d-a34c-b6ef58a92082"
      },
      "execution_count": 11,
      "outputs": [
        {
          "output_type": "display_data",
          "data": {
            "text/plain": [
              "<Figure size 576x216 with 3 Axes>"
            ],
            "image/png": "[encoded data removed]"
          },
          "metadata": {
            "needs_background": "light"
          }
        }
      ]
    },
    {
      "cell_type": "markdown",
      "source": [
        "### Class distribution for the task 3\n",
        "\n",
        "Show the distribution of the 11 subcategories (\"label_vector\"). "
      ],
      "metadata": {
        "id": "AefFVnh2rvbf"
      }
    },
    {
      "cell_type": "code",
      "source": [
        "data_train3 = df_train_sex[\"label_vector\"].value_counts().reset_index()\n",
        "data_train3.columns = ['label_vector', 'counts']\n",
        "\n",
        "data_dev3 = df_dev_sex[\"label_vector\"].value_counts().reset_index()\n",
        "data_dev3.columns = ['label_vector', 'counts']\n",
        "\n",
        "data_test3 = df_test_sex[\"label_vector\"].value_counts().reset_index()\n",
        "data_test3.columns = ['label_vector', 'counts']"
      ],
      "metadata": {
        "id": "lirMl7JOGVO6"
      },
      "execution_count": 12,
      "outputs": []
    },
    {
      "cell_type": "code",
      "source": [
        "labels3= sorted(data_train3['label_vector'])\n",
        "labels3\n"
      ],
      "metadata": {
        "colab": {
          "base_uri": "https://localhost:8080/"
        },
        "id": "huVsxRDEGi3q",
        "outputId": "fdc576b3-53bd-4a15-ce3b-6c471741c56f"
      },
      "execution_count": 13,
      "outputs": [
        {
          "output_type": "execute_result",
          "data": {
            "text/plain": [
              "['1.1 threats of harm',\n",
              " '1.2 incitement and encouragement of harm',\n",
              " '2.1 descriptive attacks',\n",
              " '2.2 aggressive and emotive attacks',\n",
              " '2.3 dehumanising attacks & overt sexual objectification',\n",
              " '3.1 casual use of gendered slurs, profanities, and insults',\n",
              " '3.2 immutable gender differences and gender stereotypes',\n",
              " '3.3 backhanded gendered compliments',\n",
              " '3.4 condescending explanations or unwelcome advice',\n",
              " '4.1 supporting mistreatment of individual women',\n",
              " '4.2 supporting systemic discrimination against women as a group']"
            ]
          },
          "metadata": {},
          "execution_count": 13
        }
      ]
    },
    {
      "cell_type": "code",
      "source": [
        "# dos primeras un orchid , son de la clase 1\n",
        "# tres siguientes deben ser de color rojizo\n",
        "# las 4 siguientes son la clase 3, debe tener un color verde\n",
        "# los dos últimos azules\n",
        "colors3 = ['plum', 'violet', \n",
        "           'red', 'coral', 'darksalmon', \n",
        "           'olivedrab', 'yellowgreen', 'darkseagreen', 'lightgreen',  \n",
        "           'steelblue', 'skyblue' ]\n",
        "\n",
        "labels3 = sorted(data_train3['label_vector'].tolist())\n",
        "# print(labels3)\n",
        "\n",
        "dict_color3 = dict(zip(labels3, colors3))\n",
        "\n",
        "\n",
        "color_train3 = data_train3['label_vector'].apply(lambda x: dict_color3[x]).tolist()\n",
        "color_dev3 = data_dev3['label_vector'].apply(lambda x: dict_color3[x]).tolist()\n",
        "color_test3 = data_test3['label_vector'].apply(lambda x: dict_color3[x]).tolist()\n",
        "# print(color_train)\n",
        "# print(color_dev)\n",
        "# print(color_test)\n",
        "\n",
        "\n",
        "\n",
        "fig, (ax_train, ax_dev, ax_test) = plt.subplots(1, 3, figsize=(8, 3))\n",
        "ax_train.bar(data_train3['label_vector'], data_train3['counts'], label=dict_color3.keys(), color=color_train3)\n",
        "ax_train.set_title('Training split')\n",
        "ax_train.set_ylabel('Number of texts')\n",
        "ax_train.axes.get_xaxis().set_ticks([]) #hide the labels \n",
        "\n",
        "\n",
        "\n",
        "ax_dev.bar(data_dev3['label_vector'], data_dev3['counts'], label=dict_color3.keys(), color=color_dev3)\n",
        "ax_dev.axes.get_xaxis().set_ticks([])  #hide the labels \n",
        "ax_dev.set_title('Validation split')\n",
        "\n",
        "ax_test.bar(data_test3['label_vector'], data_test3['counts'], label=dict_color3.keys(), color=color_test3)\n",
        "ax_test.axes.get_xaxis().set_ticks([])  #hide the labels \n",
        "\n",
        "ax_test.set_title('Test split')\n",
        "\n",
        "\n",
        "\n",
        "lines = [Line2D([0], [0], color=c, linewidth=5) for c in colors3]\n",
        "plt.legend(lines, dict_color3.keys(), ncol=1, bbox_to_anchor=(1.04, 1), loc=\"upper left\", fancybox=True, shadow=True)\n",
        "plt.show()\n",
        "\n"
      ],
      "metadata": {
        "colab": {
          "base_uri": "https://localhost:8080/",
          "height": 220
        },
        "id": "QuC0ZuW5JgQS",
        "outputId": "f7356929-3b88-47b3-b154-b7b26c754314"
      },
      "execution_count": 14,
      "outputs": [
        {
          "output_type": "display_data",
          "data": {
            "text/plain": [
              "<Figure size 576x216 with 3 Axes>"
            ],
            "image/png": "[encoded data removed]"
          },
          "metadata": {
            "needs_background": "light"
          }
        }
      ]
    },
    {
      "cell_type": "code",
      "source": [
        "data_train3"
      ],
      "metadata": {
        "colab": {
          "base_uri": "https://localhost:8080/",
          "height": 394
        },
        "id": "VH1Rk30TLnce",
        "outputId": "4b475007-5e7e-452a-b2dd-5b630b01cc6a"
      },
      "execution_count": 15,
      "outputs": [
        {
          "output_type": "execute_result",
          "data": {
            "text/plain": [
              "                                         label_vector  counts\n",
              "0                             2.1 descriptive attacks     717\n",
              "1                  2.2 aggressive and emotive attacks     673\n",
              "2   3.1 casual use of gendered slurs, profanities,...     637\n",
              "3   3.2 immutable gender differences and gender st...     417\n",
              "4   4.2 supporting systemic discrimination against...     258\n",
              "5            1.2 incitement and encouragement of harm     254\n",
              "6   2.3 dehumanising attacks & overt sexual object...     200\n",
              "7     4.1 supporting mistreatment of individual women      75\n",
              "8                 3.3 backhanded gendered compliments      64\n",
              "9                                 1.1 threats of harm      56\n",
              "10  3.4 condescending explanations or unwelcome ad...      47"
            ],
            "text/html": [
              "\n",
              "  <div id=\"df-69371cdc-9dad-46cd-9f6b-93a5947a6162\">\n",
              "    <div class=\"colab-df-container\">\n",
              "      <div>\n",
              "<style scoped>\n",
              "    .dataframe tbody tr th:only-of-type {\n",
              "        vertical-align: middle;\n",
              "    }\n",
              "\n",
              "    .dataframe tbody tr th {\n",
              "        vertical-align: top;\n",
              "    }\n",
              "\n",
              "    .dataframe thead th {\n",
              "        text-align: right;\n",
              "    }\n",
              "</style>\n",
              "<table border=\"1\" class=\"dataframe\">\n",
              "  <thead>\n",
              "    <tr style=\"text-align: right;\">\n",
              "      <th></th>\n",
              "      <th>label_vector</th>\n",
              "      <th>counts</th>\n",
              "    </tr>\n",
              "  </thead>\n",
              "  <tbody>\n",
              "    <tr>\n",
              "      <th>0</th>\n",
              "      <td>2.1 descriptive attacks</td>\n",
              "      <td>717</td>\n",
              "    </tr>\n",
              "    <tr>\n",
              "      <th>1</th>\n",
              "      <td>2.2 aggressive and emotive attacks</td>\n",
              "      <td>673</td>\n",
              "    </tr>\n",
              "    <tr>\n",
              "      <th>2</th>\n",
              "      <td>3.1 casual use of gendered slurs, profanities,...</td>\n",
              "      <td>637</td>\n",
              "    </tr>\n",
              "    <tr>\n",
              "      <th>3</th>\n",
              "      <td>3.2 immutable gender differences and gender st...</td>\n",
              "      <td>417</td>\n",
              "    </tr>\n",
              "    <tr>\n",
              "      <th>4</th>\n",
              "      <td>4.2 supporting systemic discrimination against...</td>\n",
              "      <td>258</td>\n",
              "    </tr>\n",
              "    <tr>\n",
              "      <th>5</th>\n",
              "      <td>1.2 incitement and encouragement of harm</td>\n",
              "      <td>254</td>\n",
              "    </tr>\n",
              "    <tr>\n",
              "      <th>6</th>\n",
              "      <td>2.3 dehumanising attacks &amp; overt sexual object...</td>\n",
              "      <td>200</td>\n",
              "    </tr>\n",
              "    <tr>\n",
              "      <th>7</th>\n",
              "      <td>4.1 supporting mistreatment of individual women</td>\n",
              "      <td>75</td>\n",
              "    </tr>\n",
              "    <tr>\n",
              "      <th>8</th>\n",
              "      <td>3.3 backhanded gendered compliments</td>\n",
              "      <td>64</td>\n",
              "    </tr>\n",
              "    <tr>\n",
              "      <th>9</th>\n",
              "      <td>1.1 threats of harm</td>\n",
              "      <td>56</td>\n",
              "    </tr>\n",
              "    <tr>\n",
              "      <th>10</th>\n",
              "      <td>3.4 condescending explanations or unwelcome ad...</td>\n",
              "      <td>47</td>\n",
              "    </tr>\n",
              "  </tbody>\n",
              "</table>\n",
              "</div>\n",
              "      <button class=\"colab-df-convert\" onclick=\"convertToInteractive('df-69371cdc-9dad-46cd-9f6b-93a5947a6162')\"\n",
              "              title=\"Convert this dataframe to an interactive table.\"\n",
              "              style=\"display:none;\">\n",
              "        \n",
              "  <svg xmlns=\"http://www.w3.org/2000/svg\" height=\"24px\"viewBox=\"0 0 24 24\"\n",
              "       width=\"24px\">\n",
              "    <path d=\"M0 0h24v24H0V0z\" fill=\"none\"/>\n",
              "    <path d=\"M18.56 5.44l.94 2.06.94-2.06 2.06-.94-2.06-.94-.94-2.06-.94 2.06-2.06.94zm-11 1L8.5 8.5l.94-2.06 2.06-.94-2.06-.94L8.5 2.5l-.94 2.06-2.06.94zm10 10l.94 2.06.94-2.06 2.06-.94-2.06-.94-.94-2.06-.94 2.06-2.06.94z\"/><path d=\"M17.41 7.96l-1.37-1.37c-.4-.4-.92-.59-1.43-.59-.52 0-1.04.2-1.43.59L10.3 9.45l-7.72 7.72c-.78.78-.78 2.05 0 2.83L4 21.41c.39.39.9.59 1.41.59.51 0 1.02-.2 1.41-.59l7.78-7.78 2.81-2.81c.8-.78.8-2.07 0-2.86zM5.41 20L4 18.59l7.72-7.72 1.47 1.35L5.41 20z\"/>\n",
              "  </svg>\n",
              "      </button>\n",
              "      \n",
              "  <style>\n",
              "    .colab-df-container {\n",
              "      display:flex;\n",
              "      flex-wrap:wrap;\n",
              "      gap: 12px;\n",
              "    }\n",
              "\n",
              "    .colab-df-convert {\n",
              "      background-color: #E8F0FE;\n",
              "      border: none;\n",
              "      border-radius: 50%;\n",
              "      cursor: pointer;\n",
              "      display: none;\n",
              "      fill: #1967D2;\n",
              "      height: 32px;\n",
              "      padding: 0 0 0 0;\n",
              "      width: 32px;\n",
              "    }\n",
              "\n",
              "    .colab-df-convert:hover {\n",
              "      background-color: #E2EBFA;\n",
              "      box-shadow: 0px 1px 2px rgba(60, 64, 67, 0.3), 0px 1px 3px 1px rgba(60, 64, 67, 0.15);\n",
              "      fill: #174EA6;\n",
              "    }\n",
              "\n",
              "    [theme=dark] .colab-df-convert {\n",
              "      background-color: #3B4455;\n",
              "      fill: #D2E3FC;\n",
              "    }\n",
              "\n",
              "    [theme=dark] .colab-df-convert:hover {\n",
              "      background-color: #434B5C;\n",
              "      box-shadow: 0px 1px 3px 1px rgba(0, 0, 0, 0.15);\n",
              "      filter: drop-shadow(0px 1px 2px rgba(0, 0, 0, 0.3));\n",
              "      fill: #FFFFFF;\n",
              "    }\n",
              "  </style>\n",
              "\n",
              "      <script>\n",
              "        const buttonEl =\n",
              "          document.querySelector('#df-69371cdc-9dad-46cd-9f6b-93a5947a6162 button.colab-df-convert');\n",
              "        buttonEl.style.display =\n",
              "          google.colab.kernel.accessAllowed ? 'block' : 'none';\n",
              "\n",
              "        async function convertToInteractive(key) {\n",
              "          const element = document.querySelector('#df-69371cdc-9dad-46cd-9f6b-93a5947a6162');\n",
              "          const dataTable =\n",
              "            await google.colab.kernel.invokeFunction('convertToInteractive',\n",
              "                                                     [key], {});\n",
              "          if (!dataTable) return;\n",
              "\n",
              "          const docLinkHtml = 'Like what you see? Visit the ' +\n",
              "            '<a target=\"_blank\" href=https://colab.research.google.com/notebooks/data_table.ipynb>data table notebook</a>'\n",
              "            + ' to learn more about interactive tables.';\n",
              "          element.innerHTML = '';\n",
              "          dataTable['output_type'] = 'display_data';\n",
              "          await google.colab.output.renderOutput(dataTable, element);\n",
              "          const docLink = document.createElement('div');\n",
              "          docLink.innerHTML = docLinkHtml;\n",
              "          element.appendChild(docLink);\n",
              "        }\n",
              "      </script>\n",
              "    </div>\n",
              "  </div>\n",
              "  "
            ]
          },
          "metadata": {},
          "execution_count": 15
        }
      ]
    },
    {
      "cell_type": "code",
      "source": [
        "data_dev3"
      ],
      "metadata": {
        "colab": {
          "base_uri": "https://localhost:8080/",
          "height": 394
        },
        "id": "4DbcrULOLxW1",
        "outputId": "033236ea-90e2-497a-c537-1afecd7ea663"
      },
      "execution_count": 16,
      "outputs": [
        {
          "output_type": "execute_result",
          "data": {
            "text/plain": [
              "                                         label_vector  counts\n",
              "0                             2.1 descriptive attacks     102\n",
              "1                  2.2 aggressive and emotive attacks      96\n",
              "2   3.1 casual use of gendered slurs, profanities,...      91\n",
              "3   3.2 immutable gender differences and gender st...      60\n",
              "4   4.2 supporting systemic discrimination against...      37\n",
              "5            1.2 incitement and encouragement of harm      36\n",
              "6   2.3 dehumanising attacks & overt sexual object...      29\n",
              "7     4.1 supporting mistreatment of individual women      11\n",
              "8                 3.3 backhanded gendered compliments       9\n",
              "9                                 1.1 threats of harm       8\n",
              "10  3.4 condescending explanations or unwelcome ad...       7"
            ],
            "text/html": [
              "\n",
              "  <div id=\"df-b5f6e9c1-dd02-46da-9b55-9c324bc296f3\">\n",
              "    <div class=\"colab-df-container\">\n",
              "      <div>\n",
              "<style scoped>\n",
              "    .dataframe tbody tr th:only-of-type {\n",
              "        vertical-align: middle;\n",
              "    }\n",
              "\n",
              "    .dataframe tbody tr th {\n",
              "        vertical-align: top;\n",
              "    }\n",
              "\n",
              "    .dataframe thead th {\n",
              "        text-align: right;\n",
              "    }\n",
              "</style>\n",
              "<table border=\"1\" class=\"dataframe\">\n",
              "  <thead>\n",
              "    <tr style=\"text-align: right;\">\n",
              "      <th></th>\n",
              "      <th>label_vector</th>\n",
              "      <th>counts</th>\n",
              "    </tr>\n",
              "  </thead>\n",
              "  <tbody>\n",
              "    <tr>\n",
              "      <th>0</th>\n",
              "      <td>2.1 descriptive attacks</td>\n",
              "      <td>102</td>\n",
              "    </tr>\n",
              "    <tr>\n",
              "      <th>1</th>\n",
              "      <td>2.2 aggressive and emotive attacks</td>\n",
              "      <td>96</td>\n",
              "    </tr>\n",
              "    <tr>\n",
              "      <th>2</th>\n",
              "      <td>3.1 casual use of gendered slurs, profanities,...</td>\n",
              "      <td>91</td>\n",
              "    </tr>\n",
              "    <tr>\n",
              "      <th>3</th>\n",
              "      <td>3.2 immutable gender differences and gender st...</td>\n",
              "      <td>60</td>\n",
              "    </tr>\n",
              "    <tr>\n",
              "      <th>4</th>\n",
              "      <td>4.2 supporting systemic discrimination against...</td>\n",
              "      <td>37</td>\n",
              "    </tr>\n",
              "    <tr>\n",
              "      <th>5</th>\n",
              "      <td>1.2 incitement and encouragement of harm</td>\n",
              "      <td>36</td>\n",
              "    </tr>\n",
              "    <tr>\n",
              "      <th>6</th>\n",
              "      <td>2.3 dehumanising attacks &amp; overt sexual object...</td>\n",
              "      <td>29</td>\n",
              "    </tr>\n",
              "    <tr>\n",
              "      <th>7</th>\n",
              "      <td>4.1 supporting mistreatment of individual women</td>\n",
              "      <td>11</td>\n",
              "    </tr>\n",
              "    <tr>\n",
              "      <th>8</th>\n",
              "      <td>3.3 backhanded gendered compliments</td>\n",
              "      <td>9</td>\n",
              "    </tr>\n",
              "    <tr>\n",
              "      <th>9</th>\n",
              "      <td>1.1 threats of harm</td>\n",
              "      <td>8</td>\n",
              "    </tr>\n",
              "    <tr>\n",
              "      <th>10</th>\n",
              "      <td>3.4 condescending explanations or unwelcome ad...</td>\n",
              "      <td>7</td>\n",
              "    </tr>\n",
              "  </tbody>\n",
              "</table>\n",
              "</div>\n",
              "      <button class=\"colab-df-convert\" onclick=\"convertToInteractive('df-b5f6e9c1-dd02-46da-9b55-9c324bc296f3')\"\n",
              "              title=\"Convert this dataframe to an interactive table.\"\n",
              "              style=\"display:none;\">\n",
              "        \n",
              "  <svg xmlns=\"http://www.w3.org/2000/svg\" height=\"24px\"viewBox=\"0 0 24 24\"\n",
              "       width=\"24px\">\n",
              "    <path d=\"M0 0h24v24H0V0z\" fill=\"none\"/>\n",
              "    <path d=\"M18.56 5.44l.94 2.06.94-2.06 2.06-.94-2.06-.94-.94-2.06-.94 2.06-2.06.94zm-11 1L8.5 8.5l.94-2.06 2.06-.94-2.06-.94L8.5 2.5l-.94 2.06-2.06.94zm10 10l.94 2.06.94-2.06 2.06-.94-2.06-.94-.94-2.06-.94 2.06-2.06.94z\"/><path d=\"M17.41 7.96l-1.37-1.37c-.4-.4-.92-.59-1.43-.59-.52 0-1.04.2-1.43.59L10.3 9.45l-7.72 7.72c-.78.78-.78 2.05 0 2.83L4 21.41c.39.39.9.59 1.41.59.51 0 1.02-.2 1.41-.59l7.78-7.78 2.81-2.81c.8-.78.8-2.07 0-2.86zM5.41 20L4 18.59l7.72-7.72 1.47 1.35L5.41 20z\"/>\n",
              "  </svg>\n",
              "      </button>\n",
              "      \n",
              "  <style>\n",
              "    .colab-df-container {\n",
              "      display:flex;\n",
              "      flex-wrap:wrap;\n",
              "      gap: 12px;\n",
              "    }\n",
              "\n",
              "    .colab-df-convert {\n",
              "      background-color: #E8F0FE;\n",
              "      border: none;\n",
              "      border-radius: 50%;\n",
              "      cursor: pointer;\n",
              "      display: none;\n",
              "      fill: #1967D2;\n",
              "      height: 32px;\n",
              "      padding: 0 0 0 0;\n",
              "      width: 32px;\n",
              "    }\n",
              "\n",
              "    .colab-df-convert:hover {\n",
              "      background-color: #E2EBFA;\n",
              "      box-shadow: 0px 1px 2px rgba(60, 64, 67, 0.3), 0px 1px 3px 1px rgba(60, 64, 67, 0.15);\n",
              "      fill: #174EA6;\n",
              "    }\n",
              "\n",
              "    [theme=dark] .colab-df-convert {\n",
              "      background-color: #3B4455;\n",
              "      fill: #D2E3FC;\n",
              "    }\n",
              "\n",
              "    [theme=dark] .colab-df-convert:hover {\n",
              "      background-color: #434B5C;\n",
              "      box-shadow: 0px 1px 3px 1px rgba(0, 0, 0, 0.15);\n",
              "      filter: drop-shadow(0px 1px 2px rgba(0, 0, 0, 0.3));\n",
              "      fill: #FFFFFF;\n",
              "    }\n",
              "  </style>\n",
              "\n",
              "      <script>\n",
              "        const buttonEl =\n",
              "          document.querySelector('#df-b5f6e9c1-dd02-46da-9b55-9c324bc296f3 button.colab-df-convert');\n",
              "        buttonEl.style.display =\n",
              "          google.colab.kernel.accessAllowed ? 'block' : 'none';\n",
              "\n",
              "        async function convertToInteractive(key) {\n",
              "          const element = document.querySelector('#df-b5f6e9c1-dd02-46da-9b55-9c324bc296f3');\n",
              "          const dataTable =\n",
              "            await google.colab.kernel.invokeFunction('convertToInteractive',\n",
              "                                                     [key], {});\n",
              "          if (!dataTable) return;\n",
              "\n",
              "          const docLinkHtml = 'Like what you see? Visit the ' +\n",
              "            '<a target=\"_blank\" href=https://colab.research.google.com/notebooks/data_table.ipynb>data table notebook</a>'\n",
              "            + ' to learn more about interactive tables.';\n",
              "          element.innerHTML = '';\n",
              "          dataTable['output_type'] = 'display_data';\n",
              "          await google.colab.output.renderOutput(dataTable, element);\n",
              "          const docLink = document.createElement('div');\n",
              "          docLink.innerHTML = docLinkHtml;\n",
              "          element.appendChild(docLink);\n",
              "        }\n",
              "      </script>\n",
              "    </div>\n",
              "  </div>\n",
              "  "
            ]
          },
          "metadata": {},
          "execution_count": 16
        }
      ]
    },
    {
      "cell_type": "code",
      "source": [
        "data_test3"
      ],
      "metadata": {
        "colab": {
          "base_uri": "https://localhost:8080/",
          "height": 394
        },
        "id": "XrqOiZ16L3zv",
        "outputId": "f95fff76-b661-4414-c942-2008926c3d2b"
      },
      "execution_count": 17,
      "outputs": [
        {
          "output_type": "execute_result",
          "data": {
            "text/plain": [
              "                                         label_vector  counts\n",
              "0                             2.1 descriptive attacks     205\n",
              "1                  2.2 aggressive and emotive attacks     192\n",
              "2   3.1 casual use of gendered slurs, profanities,...     182\n",
              "3   3.2 immutable gender differences and gender st...     119\n",
              "4   4.2 supporting systemic discrimination against...      73\n",
              "5            1.2 incitement and encouragement of harm      73\n",
              "6   2.3 dehumanising attacks & overt sexual object...      57\n",
              "7     4.1 supporting mistreatment of individual women      21\n",
              "8                 3.3 backhanded gendered compliments      18\n",
              "9                                 1.1 threats of harm      16\n",
              "10  3.4 condescending explanations or unwelcome ad...      14"
            ],
            "text/html": [
              "\n",
              "  <div id=\"df-b6477bbf-f9cf-4f5c-964a-d5f341bb6607\">\n",
              "    <div class=\"colab-df-container\">\n",
              "      <div>\n",
              "<style scoped>\n",
              "    .dataframe tbody tr th:only-of-type {\n",
              "        vertical-align: middle;\n",
              "    }\n",
              "\n",
              "    .dataframe tbody tr th {\n",
              "        vertical-align: top;\n",
              "    }\n",
              "\n",
              "    .dataframe thead th {\n",
              "        text-align: right;\n",
              "    }\n",
              "</style>\n",
              "<table border=\"1\" class=\"dataframe\">\n",
              "  <thead>\n",
              "    <tr style=\"text-align: right;\">\n",
              "      <th></th>\n",
              "      <th>label_vector</th>\n",
              "      <th>counts</th>\n",
              "    </tr>\n",
              "  </thead>\n",
              "  <tbody>\n",
              "    <tr>\n",
              "      <th>0</th>\n",
              "      <td>2.1 descriptive attacks</td>\n",
              "      <td>205</td>\n",
              "    </tr>\n",
              "    <tr>\n",
              "      <th>1</th>\n",
              "      <td>2.2 aggressive and emotive attacks</td>\n",
              "      <td>192</td>\n",
              "    </tr>\n",
              "    <tr>\n",
              "      <th>2</th>\n",
              "      <td>3.1 casual use of gendered slurs, profanities,...</td>\n",
              "      <td>182</td>\n",
              "    </tr>\n",
              "    <tr>\n",
              "      <th>3</th>\n",
              "      <td>3.2 immutable gender differences and gender st...</td>\n",
              "      <td>119</td>\n",
              "    </tr>\n",
              "    <tr>\n",
              "      <th>4</th>\n",
              "      <td>4.2 supporting systemic discrimination against...</td>\n",
              "      <td>73</td>\n",
              "    </tr>\n",
              "    <tr>\n",
              "      <th>5</th>\n",
              "      <td>1.2 incitement and encouragement of harm</td>\n",
              "      <td>73</td>\n",
              "    </tr>\n",
              "    <tr>\n",
              "      <th>6</th>\n",
              "      <td>2.3 dehumanising attacks &amp; overt sexual object...</td>\n",
              "      <td>57</td>\n",
              "    </tr>\n",
              "    <tr>\n",
              "      <th>7</th>\n",
              "      <td>4.1 supporting mistreatment of individual women</td>\n",
              "      <td>21</td>\n",
              "    </tr>\n",
              "    <tr>\n",
              "      <th>8</th>\n",
              "      <td>3.3 backhanded gendered compliments</td>\n",
              "      <td>18</td>\n",
              "    </tr>\n",
              "    <tr>\n",
              "      <th>9</th>\n",
              "      <td>1.1 threats of harm</td>\n",
              "      <td>16</td>\n",
              "    </tr>\n",
              "    <tr>\n",
              "      <th>10</th>\n",
              "      <td>3.4 condescending explanations or unwelcome ad...</td>\n",
              "      <td>14</td>\n",
              "    </tr>\n",
              "  </tbody>\n",
              "</table>\n",
              "</div>\n",
              "      <button class=\"colab-df-convert\" onclick=\"convertToInteractive('df-b6477bbf-f9cf-4f5c-964a-d5f341bb6607')\"\n",
              "              title=\"Convert this dataframe to an interactive table.\"\n",
              "              style=\"display:none;\">\n",
              "        \n",
              "  <svg xmlns=\"http://www.w3.org/2000/svg\" height=\"24px\"viewBox=\"0 0 24 24\"\n",
              "       width=\"24px\">\n",
              "    <path d=\"M0 0h24v24H0V0z\" fill=\"none\"/>\n",
              "    <path d=\"M18.56 5.44l.94 2.06.94-2.06 2.06-.94-2.06-.94-.94-2.06-.94 2.06-2.06.94zm-11 1L8.5 8.5l.94-2.06 2.06-.94-2.06-.94L8.5 2.5l-.94 2.06-2.06.94zm10 10l.94 2.06.94-2.06 2.06-.94-2.06-.94-.94-2.06-.94 2.06-2.06.94z\"/><path d=\"M17.41 7.96l-1.37-1.37c-.4-.4-.92-.59-1.43-.59-.52 0-1.04.2-1.43.59L10.3 9.45l-7.72 7.72c-.78.78-.78 2.05 0 2.83L4 21.41c.39.39.9.59 1.41.59.51 0 1.02-.2 1.41-.59l7.78-7.78 2.81-2.81c.8-.78.8-2.07 0-2.86zM5.41 20L4 18.59l7.72-7.72 1.47 1.35L5.41 20z\"/>\n",
              "  </svg>\n",
              "      </button>\n",
              "      \n",
              "  <style>\n",
              "    .colab-df-container {\n",
              "      display:flex;\n",
              "      flex-wrap:wrap;\n",
              "      gap: 12px;\n",
              "    }\n",
              "\n",
              "    .colab-df-convert {\n",
              "      background-color: #E8F0FE;\n",
              "      border: none;\n",
              "      border-radius: 50%;\n",
              "      cursor: pointer;\n",
              "      display: none;\n",
              "      fill: #1967D2;\n",
              "      height: 32px;\n",
              "      padding: 0 0 0 0;\n",
              "      width: 32px;\n",
              "    }\n",
              "\n",
              "    .colab-df-convert:hover {\n",
              "      background-color: #E2EBFA;\n",
              "      box-shadow: 0px 1px 2px rgba(60, 64, 67, 0.3), 0px 1px 3px 1px rgba(60, 64, 67, 0.15);\n",
              "      fill: #174EA6;\n",
              "    }\n",
              "\n",
              "    [theme=dark] .colab-df-convert {\n",
              "      background-color: #3B4455;\n",
              "      fill: #D2E3FC;\n",
              "    }\n",
              "\n",
              "    [theme=dark] .colab-df-convert:hover {\n",
              "      background-color: #434B5C;\n",
              "      box-shadow: 0px 1px 3px 1px rgba(0, 0, 0, 0.15);\n",
              "      filter: drop-shadow(0px 1px 2px rgba(0, 0, 0, 0.3));\n",
              "      fill: #FFFFFF;\n",
              "    }\n",
              "  </style>\n",
              "\n",
              "      <script>\n",
              "        const buttonEl =\n",
              "          document.querySelector('#df-b6477bbf-f9cf-4f5c-964a-d5f341bb6607 button.colab-df-convert');\n",
              "        buttonEl.style.display =\n",
              "          google.colab.kernel.accessAllowed ? 'block' : 'none';\n",
              "\n",
              "        async function convertToInteractive(key) {\n",
              "          const element = document.querySelector('#df-b6477bbf-f9cf-4f5c-964a-d5f341bb6607');\n",
              "          const dataTable =\n",
              "            await google.colab.kernel.invokeFunction('convertToInteractive',\n",
              "                                                     [key], {});\n",
              "          if (!dataTable) return;\n",
              "\n",
              "          const docLinkHtml = 'Like what you see? Visit the ' +\n",
              "            '<a target=\"_blank\" href=https://colab.research.google.com/notebooks/data_table.ipynb>data table notebook</a>'\n",
              "            + ' to learn more about interactive tables.';\n",
              "          element.innerHTML = '';\n",
              "          dataTable['output_type'] = 'display_data';\n",
              "          await google.colab.output.renderOutput(dataTable, element);\n",
              "          const docLink = document.createElement('div');\n",
              "          docLink.innerHTML = docLinkHtml;\n",
              "          element.appendChild(docLink);\n",
              "        }\n",
              "      </script>\n",
              "    </div>\n",
              "  </div>\n",
              "  "
            ]
          },
          "metadata": {},
          "execution_count": 17
        }
      ]
    },
    {
      "cell_type": "markdown",
      "source": [
        "We can see that the subcategory 2.1 has the maximum amount of instances, while 3.4 is the subcategory with the lowest number of instances."
      ],
      "metadata": {
        "id": "TwM0s9MgsZ9g"
      }
    },
    {
      "cell_type": "markdown",
      "source": [
        "## Distribution of the length texts \n",
        "\n",
        "Knowing the class distribution is an important issue that help us to discuss about the results. \n",
        "Moreover, we would like to know how the texts are and if there are significant differences between the categories texts. For example, we can study if sexist posts are shorter or longer than the non-sexist posts, or on the contrary, they have similar lenghts. \n",
        "\n",
        "We add a new field to the dataframe to contain the lenght of each text:"
      ],
      "metadata": {
        "id": "bhFwZrWqs3Sw"
      }
    },
    {
      "cell_type": "code",
      "source": [
        "df[\"length\"]=df['text'].apply(lambda x: len(x.split()))\n",
        "\n",
        "df_train[\"length\"]=df_train['text'].apply(lambda x: len(x.split()))\n",
        "df_dev[\"length\"]=df_dev['text'].apply(lambda x: len(x.split()))\n",
        "df_test[\"length\"]=df_test['text'].apply(lambda x: len(x.split()))\n"
      ],
      "metadata": {
        "id": "oH_MoYr2wMyW",
        "colab": {
          "base_uri": "https://localhost:8080/"
        },
        "outputId": "61d69bbc-847c-4df8-f94a-ce8639fcf30f"
      },
      "execution_count": 30,
      "outputs": [
        {
          "output_type": "stream",
          "name": "stderr",
          "text": [
            "<ipython-input-30-b7e12eea397e>:3: SettingWithCopyWarning: \n",
            "A value is trying to be set on a copy of a slice from a DataFrame.\n",
            "Try using .loc[row_indexer,col_indexer] = value instead\n",
            "\n",
            "See the caveats in the documentation: https://pandas.pydata.org/pandas-docs/stable/user_guide/indexing.html#returning-a-view-versus-a-copy\n",
            "  df_train[\"length\"]=df_train['text'].apply(lambda x: len(x.split()))\n",
            "<ipython-input-30-b7e12eea397e>:4: SettingWithCopyWarning: \n",
            "A value is trying to be set on a copy of a slice from a DataFrame.\n",
            "Try using .loc[row_indexer,col_indexer] = value instead\n",
            "\n",
            "See the caveats in the documentation: https://pandas.pydata.org/pandas-docs/stable/user_guide/indexing.html#returning-a-view-versus-a-copy\n",
            "  df_dev[\"length\"]=df_dev['text'].apply(lambda x: len(x.split()))\n",
            "<ipython-input-30-b7e12eea397e>:5: SettingWithCopyWarning: \n",
            "A value is trying to be set on a copy of a slice from a DataFrame.\n",
            "Try using .loc[row_indexer,col_indexer] = value instead\n",
            "\n",
            "See the caveats in the documentation: https://pandas.pydata.org/pandas-docs/stable/user_guide/indexing.html#returning-a-view-versus-a-copy\n",
            "  df_test[\"length\"]=df_test['text'].apply(lambda x: len(x.split()))\n"
          ]
        }
      ]
    },
    {
      "cell_type": "code",
      "source": [
        "df_train['length'].describe(percentiles=[0, 0.25, 0.50, 0.75, 0.95])"
      ],
      "metadata": {
        "colab": {
          "base_uri": "https://localhost:8080/"
        },
        "id": "58KjDaowST-m",
        "outputId": "2af7a934-bd99-4306-bb8b-06253289123e"
      },
      "execution_count": 43,
      "outputs": [
        {
          "output_type": "execute_result",
          "data": {
            "text/plain": [
              "count    14000.000000\n",
              "mean        23.420214\n",
              "std         11.658727\n",
              "min          1.000000\n",
              "0%           1.000000\n",
              "25%         14.000000\n",
              "50%         22.000000\n",
              "75%         33.000000\n",
              "95%         43.000000\n",
              "max         55.000000\n",
              "Name: length, dtype: float64"
            ]
          },
          "metadata": {},
          "execution_count": 43
        }
      ]
    },
    {
      "cell_type": "code",
      "source": [
        "df_dev['length'].describe(percentiles=[0, 0.25, 0.50, 0.75, 0.95])"
      ],
      "metadata": {
        "colab": {
          "base_uri": "https://localhost:8080/"
        },
        "id": "zsmfStBISW_P",
        "outputId": "a1931e16-1355-4539-b38d-62129a7028a9"
      },
      "execution_count": 44,
      "outputs": [
        {
          "output_type": "execute_result",
          "data": {
            "text/plain": [
              "count    2000.000000\n",
              "mean       23.033500\n",
              "std        11.794063\n",
              "min         1.000000\n",
              "0%          1.000000\n",
              "25%        13.000000\n",
              "50%        21.500000\n",
              "75%        32.000000\n",
              "95%        44.000000\n",
              "max        56.000000\n",
              "Name: length, dtype: float64"
            ]
          },
          "metadata": {},
          "execution_count": 44
        }
      ]
    },
    {
      "cell_type": "code",
      "source": [
        "#\n",
        "#\n",
        "df_test['length'].describe(percentiles=[0, 0.25, 0.50, 0.75, 0.95])"
      ],
      "metadata": {
        "colab": {
          "base_uri": "https://localhost:8080/"
        },
        "id": "7mKCUiiXSFwf",
        "outputId": "f539234c-3891-44e9-a228-14dc161a1877"
      },
      "execution_count": 42,
      "outputs": [
        {
          "output_type": "execute_result",
          "data": {
            "text/plain": [
              "count    4000.000000\n",
              "mean       23.060500\n",
              "std        11.842124\n",
              "min         1.000000\n",
              "0%          1.000000\n",
              "25%        13.000000\n",
              "50%        22.000000\n",
              "75%        32.000000\n",
              "95%        44.000000\n",
              "max        58.000000\n",
              "Name: length, dtype: float64"
            ]
          },
          "metadata": {},
          "execution_count": 42
        }
      ]
    },
    {
      "cell_type": "markdown",
      "source": [
        "### Length Distribution for each split"
      ],
      "metadata": {
        "id": "ws1_QgZqW7cl"
      }
    },
    {
      "cell_type": "code",
      "source": [
        "\n",
        "fig, (ax_train, ax_dev, ax_test) = plt.subplots(1, 3, figsize=(8, 3))\n",
        "# fig.suptitle('Distribución del tamaño de los textos')\n",
        "\n",
        "ax_train.hist(df_train['length'],  color = 'red', edgecolor = 'black',\n",
        "         )\n",
        "ax_train.set_title('Training split')\n",
        "ax_train.set_xlabel('Number of tokens')\n",
        "ax_train.set_ylabel('Number of texts')\n",
        "\n",
        "\n",
        "ax_dev.hist(df_dev['length'],  color = 'red', edgecolor = 'black',\n",
        "         )\n",
        "ax_dev.set_title('Validation split')\n",
        "ax_dev.set_xlabel('Number of texts')\n",
        "\n",
        "ax_test.hist(df_test['length'],  color = 'red', edgecolor = 'black',\n",
        "         )\n",
        "ax_test.set_title('Test split')\n",
        "ax_test.set_xlabel('Number of texts')\n",
        "#ax_test.set_ylabel('Number of tweets')"
      ],
      "metadata": {
        "colab": {
          "base_uri": "https://localhost:8080/",
          "height": 258
        },
        "id": "QF6LNKdUPqq_",
        "outputId": "37429183-0ed4-4961-b3ec-3f531dfebdef"
      },
      "execution_count": 47,
      "outputs": [
        {
          "output_type": "execute_result",
          "data": {
            "text/plain": [
              "Text(0.5, 0, 'Number of texts')"
            ]
          },
          "metadata": {},
          "execution_count": 47
        },
        {
          "output_type": "display_data",
          "data": {
            "text/plain": [
              "<Figure size 576x216 with 3 Axes>"
            ],
            "image/png": "[encoded data removed]"
          },
          "metadata": {
            "needs_background": "light"
          }
        }
      ]
    },
    {
      "cell_type": "code",
      "source": [
        "df_train[\"length\"].describe()"
      ],
      "metadata": {
        "id": "_ma-DSDzwcj_",
        "colab": {
          "base_uri": "https://localhost:8080/"
        },
        "outputId": "7192cfbb-cb2b-461a-8292-672bfc1006eb"
      },
      "execution_count": 22,
      "outputs": [
        {
          "output_type": "execute_result",
          "data": {
            "text/plain": [
              "count    14000.000000\n",
              "mean        23.420214\n",
              "std         11.658727\n",
              "min          1.000000\n",
              "25%         14.000000\n",
              "50%         22.000000\n",
              "75%         33.000000\n",
              "max         55.000000\n",
              "Name: length, dtype: float64"
            ]
          },
          "metadata": {},
          "execution_count": 22
        }
      ]
    },
    {
      "cell_type": "code",
      "source": [
        "df_dev[\"length\"].describe()"
      ],
      "metadata": {
        "colab": {
          "base_uri": "https://localhost:8080/"
        },
        "id": "wwlj7L8lPLkv",
        "outputId": "4277d7a8-e9a8-4166-ff48-cf1c519c25f2"
      },
      "execution_count": 23,
      "outputs": [
        {
          "output_type": "execute_result",
          "data": {
            "text/plain": [
              "count    2000.000000\n",
              "mean       23.033500\n",
              "std        11.794063\n",
              "min         1.000000\n",
              "25%        13.000000\n",
              "50%        21.500000\n",
              "75%        32.000000\n",
              "max        56.000000\n",
              "Name: length, dtype: float64"
            ]
          },
          "metadata": {},
          "execution_count": 23
        }
      ]
    },
    {
      "cell_type": "code",
      "source": [
        "df_test[\"length\"].describe()"
      ],
      "metadata": {
        "colab": {
          "base_uri": "https://localhost:8080/"
        },
        "id": "5n0yxB-fP0RI",
        "outputId": "922bf58b-b480-4e52-965a-87f047799d90"
      },
      "execution_count": 24,
      "outputs": [
        {
          "output_type": "execute_result",
          "data": {
            "text/plain": [
              "count    4000.000000\n",
              "mean       23.060500\n",
              "std        11.842124\n",
              "min         1.000000\n",
              "25%        13.000000\n",
              "50%        22.000000\n",
              "75%        32.000000\n",
              "max        58.000000\n",
              "Name: length, dtype: float64"
            ]
          },
          "metadata": {},
          "execution_count": 24
        }
      ]
    },
    {
      "cell_type": "markdown",
      "source": [
        "We can also use the seaborn library"
      ],
      "metadata": {
        "id": "b-JOmvdAxIPf"
      }
    },
    {
      "cell_type": "code",
      "source": [
        "import seaborn as sns\n",
        "\n",
        "# Density Plot and Histogram of all lenghts of the tweets\n",
        "sns.distplot(df['length'], hist=True, kde=True, \n",
        "              color = 'darkblue', \n",
        "             hist_kws={'edgecolor':'black'},\n",
        "             kde_kws={'linewidth': 4})"
      ],
      "metadata": {
        "id": "lWIsXv53xJrP",
        "colab": {
          "base_uri": "https://localhost:8080/",
          "height": 351
        },
        "outputId": "d25f6330-8fcd-43b7-a811-9d1ad66e228a"
      },
      "execution_count": 52,
      "outputs": [
        {
          "output_type": "stream",
          "name": "stderr",
          "text": [
            "/usr/local/lib/python3.8/dist-packages/seaborn/distributions.py:2619: FutureWarning: `distplot` is a deprecated function and will be removed in a future version. Please adapt your code to use either `displot` (a figure-level function with similar flexibility) or `histplot` (an axes-level function for histograms).\n",
            "  warnings.warn(msg, FutureWarning)\n"
          ]
        },
        {
          "output_type": "execute_result",
          "data": {
            "text/plain": [
              "<matplotlib.axes._subplots.AxesSubplot at 0x7f8a744a8d00>"
            ]
          },
          "metadata": {},
          "execution_count": 52
        },
        {
          "output_type": "display_data",
          "data": {
            "text/plain": [
              "<Figure size 432x288 with 1 Axes>"
            ],
            "image/png": "[encoded data removed]"
          },
          "metadata": {
            "needs_background": "light"
          }
        }
      ]
    },
    {
      "cell_type": "markdown",
      "source": [
        "### Length distribution of sexist and non-sexist texts\n",
        "\n",
        "Now, we are going to create a histogram with the length distribution of texts for each type: sexist or non sexist.\n",
        "\n",
        "As the three splits appear to have a similar length distributuion, we create the density plot for the whole dataset:\n",
        "\n"
      ],
      "metadata": {
        "id": "qAtkrI-nxvBj"
      }
    },
    {
      "cell_type": "code",
      "source": [
        "labels = df[\"label_sexist\"].unique()\n",
        "for name in labels:\n",
        "    # Subset to the language\n",
        "    subset = df[df['label_sexist'] == name]\n",
        "    \n",
        "    # Draw the density plot\n",
        "    sns.distplot(subset['length'], hist = False, kde = True,\n",
        "                 kde_kws = {'linewidth': 3},\n",
        "                 label = name)\n",
        "\n",
        "  \n",
        "# Plot formatting\n",
        "plt.legend(prop={'size': 10}, title = 'Label')\n",
        "# plt.title('Density Plot for sexist and non-sexist posts')\n",
        "plt.xlabel('Number of tokens')\n",
        "plt.ylabel('Density')"
      ],
      "metadata": {
        "id": "QbxQmoJMxqWD",
        "colab": {
          "base_uri": "https://localhost:8080/",
          "height": 386
        },
        "outputId": "f8789d86-9bdd-48d9-96af-9d965d97df39"
      },
      "execution_count": 48,
      "outputs": [
        {
          "output_type": "stream",
          "name": "stderr",
          "text": [
            "/usr/local/lib/python3.8/dist-packages/seaborn/distributions.py:2619: FutureWarning: `distplot` is a deprecated function and will be removed in a future version. Please adapt your code to use either `displot` (a figure-level function with similar flexibility) or `kdeplot` (an axes-level function for kernel density plots).\n",
            "  warnings.warn(msg, FutureWarning)\n",
            "/usr/local/lib/python3.8/dist-packages/seaborn/distributions.py:2619: FutureWarning: `distplot` is a deprecated function and will be removed in a future version. Please adapt your code to use either `displot` (a figure-level function with similar flexibility) or `kdeplot` (an axes-level function for kernel density plots).\n",
            "  warnings.warn(msg, FutureWarning)\n"
          ]
        },
        {
          "output_type": "execute_result",
          "data": {
            "text/plain": [
              "Text(0, 0.5, 'Density')"
            ]
          },
          "metadata": {},
          "execution_count": 48
        },
        {
          "output_type": "display_data",
          "data": {
            "text/plain": [
              "<Figure size 432x288 with 1 Axes>"
            ],
            "image/png": "[encoded data removed]"
          },
          "metadata": {
            "needs_background": "light"
          }
        }
      ]
    },
    {
      "cell_type": "markdown",
      "source": [
        "We can see that the length distribution of the texts is very similar for both classes: sexist and non-sexist. "
      ],
      "metadata": {
        "id": "XkQolsKXyPvN"
      }
    },
    {
      "cell_type": "markdown",
      "source": [
        "### Lenth distribution for each category\n",
        "Now we show the length distribution for the four categories of sexist posts."
      ],
      "metadata": {
        "id": "LNTmZE_Oy7nU"
      }
    },
    {
      "cell_type": "code",
      "source": [
        "df2 = df[df[\"label_category\"]!='none']\n",
        "\n",
        "labels = sorted(df2[\"label_category\"].unique())\n",
        "for name in labels:\n",
        "    # Subset to the language\n",
        "    subset = df2[df2['label_category'] == name]\n",
        "    \n",
        "    # Draw the density plot\n",
        "    sns.distplot(subset['length'], hist = False, kde = True,\n",
        "                 kde_kws = {'linewidth': 3},\n",
        "                 label = name, color = dict_color[name])\n",
        "    \n",
        "# Plot formatting\n",
        "plt.legend(prop={'size': 10}, title = 'Categories', bbox_to_anchor=(0.7, 0.8), loc=\"center left\" )\n",
        "# plt.title('Density Plot for sexist texts per category (categories)')\n",
        "plt.xlabel('Number of tokens')\n",
        "plt.ylabel('Density')"
      ],
      "metadata": {
        "id": "6kAVtVxPyYjx",
        "colab": {
          "base_uri": "https://localhost:8080/",
          "height": 455
        },
        "outputId": "6ba5e8bf-3301-4667-e137-a10e98f29114"
      },
      "execution_count": 63,
      "outputs": [
        {
          "output_type": "stream",
          "name": "stderr",
          "text": [
            "/usr/local/lib/python3.8/dist-packages/seaborn/distributions.py:2619: FutureWarning: `distplot` is a deprecated function and will be removed in a future version. Please adapt your code to use either `displot` (a figure-level function with similar flexibility) or `kdeplot` (an axes-level function for kernel density plots).\n",
            "  warnings.warn(msg, FutureWarning)\n",
            "/usr/local/lib/python3.8/dist-packages/seaborn/distributions.py:2619: FutureWarning: `distplot` is a deprecated function and will be removed in a future version. Please adapt your code to use either `displot` (a figure-level function with similar flexibility) or `kdeplot` (an axes-level function for kernel density plots).\n",
            "  warnings.warn(msg, FutureWarning)\n",
            "/usr/local/lib/python3.8/dist-packages/seaborn/distributions.py:2619: FutureWarning: `distplot` is a deprecated function and will be removed in a future version. Please adapt your code to use either `displot` (a figure-level function with similar flexibility) or `kdeplot` (an axes-level function for kernel density plots).\n",
            "  warnings.warn(msg, FutureWarning)\n",
            "/usr/local/lib/python3.8/dist-packages/seaborn/distributions.py:2619: FutureWarning: `distplot` is a deprecated function and will be removed in a future version. Please adapt your code to use either `displot` (a figure-level function with similar flexibility) or `kdeplot` (an axes-level function for kernel density plots).\n",
            "  warnings.warn(msg, FutureWarning)\n"
          ]
        },
        {
          "output_type": "execute_result",
          "data": {
            "text/plain": [
              "Text(0, 0.5, 'Density')"
            ]
          },
          "metadata": {},
          "execution_count": 63
        },
        {
          "output_type": "display_data",
          "data": {
            "text/plain": [
              "<Figure size 432x288 with 1 Axes>"
            ],
            "image/png": "[encoded data removed]"
          },
          "metadata": {
            "needs_background": "light"
          }
        }
      ]
    },
    {
      "cell_type": "markdown",
      "source": [
        "We can observe that the posts classified as threats often are shorter than those classified as 4. However, posts classied with the categories 2 and 3 have very similar length distribution. \n",
        "\n",
        "So, we may think that the posts classified in prejudiced discusions are usually longer than the other sexist posts. Moreover, we may think that threats are usually shorter than the other sexist. \n",
        " "
      ],
      "metadata": {
        "id": "BG5haLFPzBY9"
      }
    },
    {
      "cell_type": "code",
      "source": [
        "df_threat = df2['length'].where(df2['label_category'] == '1. threats, plans to harm and incitement')\n",
        "df_threat.describe()"
      ],
      "metadata": {
        "id": "O46wHdz21hid",
        "colab": {
          "base_uri": "https://localhost:8080/"
        },
        "outputId": "b97f8bb9-c22a-4c36-8672-fe46effe11dc"
      },
      "execution_count": 65,
      "outputs": [
        {
          "output_type": "execute_result",
          "data": {
            "text/plain": [
              "count    443.000000\n",
              "mean      22.909707\n",
              "std       11.768736\n",
              "min        2.000000\n",
              "25%       13.000000\n",
              "50%       21.000000\n",
              "75%       32.000000\n",
              "max       52.000000\n",
              "Name: length, dtype: float64"
            ]
          },
          "metadata": {},
          "execution_count": 65
        }
      ]
    },
    {
      "cell_type": "code",
      "source": [
        "df_discus = df2['length'].where(df2['label_category'] == '4. prejudiced discussions')\n",
        "df_discus.describe()\n",
        "\n"
      ],
      "metadata": {
        "id": "DFMcK8Uu03g6",
        "colab": {
          "base_uri": "https://localhost:8080/"
        },
        "outputId": "13e636e9-7714-4852-d9de-ecb7d8639286"
      },
      "execution_count": 66,
      "outputs": [
        {
          "output_type": "execute_result",
          "data": {
            "text/plain": [
              "count    475.000000\n",
              "mean      27.808421\n",
              "std       10.907316\n",
              "min        3.000000\n",
              "25%       20.000000\n",
              "50%       28.000000\n",
              "75%       37.000000\n",
              "max       54.000000\n",
              "Name: length, dtype: float64"
            ]
          },
          "metadata": {},
          "execution_count": 66
        }
      ]
    },
    {
      "cell_type": "code",
      "source": [
        "df2[\"label_category\"].unique()"
      ],
      "metadata": {
        "colab": {
          "base_uri": "https://localhost:8080/"
        },
        "id": "IpAVjzMtbbV5",
        "outputId": "f7662403-0965-4e08-d88a-881d6ddb0895"
      },
      "execution_count": 69,
      "outputs": [
        {
          "output_type": "execute_result",
          "data": {
            "text/plain": [
              "array(['3. animosity', '2. derogation', '4. prejudiced discussions',\n",
              "       '1. threats, plans to harm and incitement'], dtype=object)"
            ]
          },
          "metadata": {},
          "execution_count": 69
        }
      ]
    },
    {
      "cell_type": "code",
      "source": [
        "df_derogation = df2['length'].where(df2['label_category'] == '2. derogation')\n",
        "df_derogation.describe()"
      ],
      "metadata": {
        "colab": {
          "base_uri": "https://localhost:8080/"
        },
        "id": "HBvxU-ERbWEo",
        "outputId": "4fddb2d3-1e3f-4320-f6ed-01164dff9522"
      },
      "execution_count": 70,
      "outputs": [
        {
          "output_type": "execute_result",
          "data": {
            "text/plain": [
              "count    2271.000000\n",
              "mean       24.944958\n",
              "std        11.475316\n",
              "min         2.000000\n",
              "25%        15.000000\n",
              "50%        24.000000\n",
              "75%        34.000000\n",
              "max        53.000000\n",
              "Name: length, dtype: float64"
            ]
          },
          "metadata": {},
          "execution_count": 70
        }
      ]
    },
    {
      "cell_type": "code",
      "source": [
        "df_animosity = df2['length'].where(df2['label_category'] == '3. animosity')\n",
        "df_animosity.describe()"
      ],
      "metadata": {
        "colab": {
          "base_uri": "https://localhost:8080/"
        },
        "id": "5nNpsREHblC3",
        "outputId": "4abb7773-13ba-41a7-af07-3aac6f7fedfb"
      },
      "execution_count": 71,
      "outputs": [
        {
          "output_type": "execute_result",
          "data": {
            "text/plain": [
              "count    1665.000000\n",
              "mean       24.590390\n",
              "std        11.893928\n",
              "min         2.000000\n",
              "25%        15.000000\n",
              "50%        23.000000\n",
              "75%        34.000000\n",
              "max        58.000000\n",
              "Name: length, dtype: float64"
            ]
          },
          "metadata": {},
          "execution_count": 71
        }
      ]
    },
    {
      "cell_type": "markdown",
      "source": [
        "### Lenth distribution for each label vector"
      ],
      "metadata": {
        "id": "uInMEdweZnI0"
      }
    },
    {
      "cell_type": "code",
      "source": [
        "labels = sorted(df2[\"label_vector\"].unique())\n",
        "for name in labels:\n",
        "    # Subset to the language\n",
        "    subset = df2[df2['label_vector'] == name]\n",
        "    \n",
        "    # Draw the density plot\n",
        "    sns.distplot(subset['length'], hist = False, kde = True,\n",
        "                 kde_kws = {'linewidth': 3},\n",
        "                 label = name, color = dict_color3[name])\n",
        "    \n",
        "# Plot formatting\n",
        "plt.legend(prop={'size': 10}, title = 'Categories', bbox_to_anchor=(0.7, 0.8), loc=\"center left\" )\n",
        "# plt.title('Density Plot for sexist texts per category (categories)')\n",
        "plt.xlabel('Number of tokens')\n",
        "plt.ylabel('Density')"
      ],
      "metadata": {
        "colab": {
          "base_uri": "https://localhost:8080/",
          "height": 746
        },
        "id": "wZlnshV-ZKF1",
        "outputId": "56586414-4ab5-47b4-b6a2-4a3b7f119e23"
      },
      "execution_count": 64,
      "outputs": [
        {
          "output_type": "stream",
          "name": "stderr",
          "text": [
            "/usr/local/lib/python3.8/dist-packages/seaborn/distributions.py:2619: FutureWarning: `distplot` is a deprecated function and will be removed in a future version. Please adapt your code to use either `displot` (a figure-level function with similar flexibility) or `kdeplot` (an axes-level function for kernel density plots).\n",
            "  warnings.warn(msg, FutureWarning)\n",
            "/usr/local/lib/python3.8/dist-packages/seaborn/distributions.py:2619: FutureWarning: `distplot` is a deprecated function and will be removed in a future version. Please adapt your code to use either `displot` (a figure-level function with similar flexibility) or `kdeplot` (an axes-level function for kernel density plots).\n",
            "  warnings.warn(msg, FutureWarning)\n",
            "/usr/local/lib/python3.8/dist-packages/seaborn/distributions.py:2619: FutureWarning: `distplot` is a deprecated function and will be removed in a future version. Please adapt your code to use either `displot` (a figure-level function with similar flexibility) or `kdeplot` (an axes-level function for kernel density plots).\n",
            "  warnings.warn(msg, FutureWarning)\n",
            "/usr/local/lib/python3.8/dist-packages/seaborn/distributions.py:2619: FutureWarning: `distplot` is a deprecated function and will be removed in a future version. Please adapt your code to use either `displot` (a figure-level function with similar flexibility) or `kdeplot` (an axes-level function for kernel density plots).\n",
            "  warnings.warn(msg, FutureWarning)\n",
            "/usr/local/lib/python3.8/dist-packages/seaborn/distributions.py:2619: FutureWarning: `distplot` is a deprecated function and will be removed in a future version. Please adapt your code to use either `displot` (a figure-level function with similar flexibility) or `kdeplot` (an axes-level function for kernel density plots).\n",
            "  warnings.warn(msg, FutureWarning)\n",
            "/usr/local/lib/python3.8/dist-packages/seaborn/distributions.py:2619: FutureWarning: `distplot` is a deprecated function and will be removed in a future version. Please adapt your code to use either `displot` (a figure-level function with similar flexibility) or `kdeplot` (an axes-level function for kernel density plots).\n",
            "  warnings.warn(msg, FutureWarning)\n",
            "/usr/local/lib/python3.8/dist-packages/seaborn/distributions.py:2619: FutureWarning: `distplot` is a deprecated function and will be removed in a future version. Please adapt your code to use either `displot` (a figure-level function with similar flexibility) or `kdeplot` (an axes-level function for kernel density plots).\n",
            "  warnings.warn(msg, FutureWarning)\n",
            "/usr/local/lib/python3.8/dist-packages/seaborn/distributions.py:2619: FutureWarning: `distplot` is a deprecated function and will be removed in a future version. Please adapt your code to use either `displot` (a figure-level function with similar flexibility) or `kdeplot` (an axes-level function for kernel density plots).\n",
            "  warnings.warn(msg, FutureWarning)\n",
            "/usr/local/lib/python3.8/dist-packages/seaborn/distributions.py:2619: FutureWarning: `distplot` is a deprecated function and will be removed in a future version. Please adapt your code to use either `displot` (a figure-level function with similar flexibility) or `kdeplot` (an axes-level function for kernel density plots).\n",
            "  warnings.warn(msg, FutureWarning)\n",
            "/usr/local/lib/python3.8/dist-packages/seaborn/distributions.py:2619: FutureWarning: `distplot` is a deprecated function and will be removed in a future version. Please adapt your code to use either `displot` (a figure-level function with similar flexibility) or `kdeplot` (an axes-level function for kernel density plots).\n",
            "  warnings.warn(msg, FutureWarning)\n",
            "/usr/local/lib/python3.8/dist-packages/seaborn/distributions.py:2619: FutureWarning: `distplot` is a deprecated function and will be removed in a future version. Please adapt your code to use either `displot` (a figure-level function with similar flexibility) or `kdeplot` (an axes-level function for kernel density plots).\n",
            "  warnings.warn(msg, FutureWarning)\n"
          ]
        },
        {
          "output_type": "execute_result",
          "data": {
            "text/plain": [
              "Text(0, 0.5, 'Density')"
            ]
          },
          "metadata": {},
          "execution_count": 64
        },
        {
          "output_type": "display_data",
          "data": {
            "text/plain": [
              "<Figure size 432x288 with 1 Axes>"
            ],
            "image/png": "[encoded data removed]"
          },
          "metadata": {
            "needs_background": "light"
          }
        }
      ]
    },
    {
      "cell_type": "markdown",
      "source": [
        "Show the lenght distrubition for the 11-fine graned subcategories:"
      ],
      "metadata": {
        "id": "u4dCQ-nDzmfo"
      }
    },
    {
      "cell_type": "markdown",
      "source": [
        "There are too many subcategories, so it is dificult show the distribution. In this case, it would be better to use the method describe() of the dataframes. "
      ],
      "metadata": {
        "id": "km9h765AxuBD"
      }
    }
  ]
}